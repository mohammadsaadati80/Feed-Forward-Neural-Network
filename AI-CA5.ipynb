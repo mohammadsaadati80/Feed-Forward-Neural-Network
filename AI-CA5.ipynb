{
 "cells": [
  {
   "cell_type": "markdown",
   "id": "bf02f54f",
   "metadata": {},
   "source": [
    "# AI Computer Assignment 5 Phase 1 (Neural Network Feed Forward)\n",
    "Mohammad Saadati - \n",
    "_810198410_"
   ]
  },
  {
   "cell_type": "markdown",
   "id": "65cdf740",
   "metadata": {},
   "source": [
    "## Introduction\n",
    "In this project, we implement **Feed Forward neural networks** to classify images.\n",
    "\n",
    "In Feed Forward neural networks, each image is first flattened and given as a vector as Feed Forward in the input neural networks. Each element of this vector (equivalent to one pixel of the image) is a property for it. Based on these properties and by making nonlinear combinations of them, the network is supposed to adjust the weight of the connections between its layers so that With the least error, correctly predict the corresponding input image class.\n",
    "\n",
    "In this assignment we will work with a set of `Persian` handwritten numbers. The data set includes images from 10 digits 0 to 9 in Persian. There are a total of 102352 images in this dataset. You can read more about the data set and the number of images of each digit in the data set [here](http://farsiocr.ir/%D9%85%D8%AC%D9%85%D9%88%D8%B9%D9%87-%D8%AF%D8%A7%D8%AF%D9%87/%D9%85%D8%AC%D9%85%D9%88%D8%B9%D9%87-%D8%A7%D8%B1%D9%82%D8%A7%D9%85-%D8%AF%D8%B3%D8%AA%D9%86%D9%88%DB%8C%D8%B3-%D9%87%D8%AF%DB%8C/)."
   ]
  },
  {
   "cell_type": "markdown",
   "id": "78249482",
   "metadata": {},
   "source": [
    "### Import Libraries\n",
    "In this part, some of the necessary libraries were imported in order to use their helpful functions."
   ]
  },
  {
   "cell_type": "code",
   "execution_count": 1,
   "id": "9097b3ff",
   "metadata": {},
   "outputs": [],
   "source": [
    "import numpy as np\n",
    "import pandas as pd\n",
    "import matplotlib.pyplot as plt\n",
    "import random\n",
    "import pickle"
   ]
  },
  {
   "cell_type": "code",
   "execution_count": 27,
   "id": "f7d9c4e3",
   "metadata": {},
   "outputs": [],
   "source": [
    "data_pkl_file = open(\"./dataset/data.pkl\", 'rb')\n",
    "data = pickle.load(data_pkl_file)\n",
    "\n",
    "labels_pkl_file = open(\"./dataset/labels.pkl\", 'rb')\n",
    "labels = pickle.load(labels_pkl_file)"
   ]
  },
  {
   "cell_type": "markdown",
   "id": "a18c9b3f",
   "metadata": {},
   "source": [
    "## Part 1: Data review and preprocessing\n",
    "### Question 1:"
   ]
  },
  {
   "cell_type": "code",
   "execution_count": 24,
   "id": "4a680615",
   "metadata": {},
   "outputs": [
    {
     "data": {
      "image/png": "[encoded data removed]",
      "text/plain": [
       "<Figure size 144x144 with 1 Axes>"
      ]
     },
     "metadata": {
      "needs_background": "light"
     },
     "output_type": "display_data"
    },
    {
     "name": "stdout",
     "output_type": "stream",
     "text": [
      "\n",
      "Minimum value in image: 0\n",
      "Maximum value in image: 255\n"
     ]
    }
   ],
   "source": [
    "image = data[random.randint(0 , len(data) - 1)]\n",
    "\n",
    "plt.figure(figsize = (2 , 2))\n",
    "plt.imshow(image)\n",
    "plt.title(\"Random Image From data\")\n",
    "plt.show()\n",
    "\n",
    "print(\"\\nMinimum value in image: \" + str(np.amin(image)))\n",
    "print(\"Maximum value in image: \" + str(np.amax(image)))"
   ]
  },
  {
   "cell_type": "markdown",
   "id": "709eb228",
   "metadata": {},
   "source": [
    "### Question 2:"
   ]
  },
  {
   "cell_type": "code",
   "execution_count": 30,
   "id": "c9bf42b5",
   "metadata": {},
   "outputs": [
    {
     "data": {
      "image/png": "[encoded data removed]",
      "text/plain": [
       "<Figure size 144x144 with 1 Axes>"
      ]
     },
     "metadata": {
      "needs_background": "light"
     },
     "output_type": "display_data"
    },
    {
     "name": "stdout",
     "output_type": "stream",
     "text": [
      "\n",
      "Minimum value in image: 0\n",
      "Maximum value in image: 255\n"
     ]
    }
   ],
   "source": [
    "data = [np.resize(element,(25 , 25)) for element in data]\n",
    "\n",
    "image = data[random.randint(0 , len(data) - 1)]\n",
    "\n",
    "plt.figure(figsize = (2 , 2))\n",
    "plt.imshow(image)\n",
    "plt.title(\"Random Image From data\")\n",
    "plt.show()\n",
    "\n",
    "print(\"\\nMinimum value in image: \" + str(np.amin(image)))\n",
    "print(\"Maximum value in image: \" + str(np.amax(image)))"
   ]
  },
  {
   "cell_type": "markdown",
   "id": "8018202b",
   "metadata": {},
   "source": [
    "### Question 3:"
   ]
  },
  {
   "cell_type": "code",
   "execution_count": 43,
   "id": "1cd5ce77",
   "metadata": {},
   "outputs": [
    {
     "name": "stdout",
     "output_type": "stream",
     "text": [
      "=============== CLASS 0 ===============\n"
     ]
    },
    {
     "data": {
      "image/png": "[encoded data removed]",
      "text/plain": [
       "<Figure size 144x144 with 1 Axes>"
      ]
     },
     "metadata": {
      "needs_background": "light"
     },
     "output_type": "display_data"
    },
    {
     "name": "stdout",
     "output_type": "stream",
     "text": [
      "=============== CLASS 1 ===============\n"
     ]
    },
    {
     "data": {
      "image/png": "[encoded data removed]",
      "text/plain": [
       "<Figure size 144x144 with 1 Axes>"
      ]
     },
     "metadata": {
      "needs_background": "light"
     },
     "output_type": "display_data"
    },
    {
     "name": "stdout",
     "output_type": "stream",
     "text": [
      "=============== CLASS 2 ===============\n"
     ]
    },
    {
     "data": {
      "image/png": "[encoded data removed]",
      "text/plain": [
       "<Figure size 144x144 with 1 Axes>"
      ]
     },
     "metadata": {
      "needs_background": "light"
     },
     "output_type": "display_data"
    },
    {
     "name": "stdout",
     "output_type": "stream",
     "text": [
      "=============== CLASS 3 ===============\n"
     ]
    },
    {
     "data": {
      "image/png": "[encoded data removed]",
      "text/plain": [
       "<Figure size 144x144 with 1 Axes>"
      ]
     },
     "metadata": {
      "needs_background": "light"
     },
     "output_type": "display_data"
    },
    {
     "name": "stdout",
     "output_type": "stream",
     "text": [
      "=============== CLASS 4 ===============\n"
     ]
    },
    {
     "data": {
      "image/png": "[encoded data removed]",
      "text/plain": [
       "<Figure size 144x144 with 1 Axes>"
      ]
     },
     "metadata": {
      "needs_background": "light"
     },
     "output_type": "display_data"
    },
    {
     "name": "stdout",
     "output_type": "stream",
     "text": [
      "=============== CLASS 5 ===============\n"
     ]
    },
    {
     "data": {
      "image/png": "[encoded data removed]",
      "text/plain": [
       "<Figure size 144x144 with 1 Axes>"
      ]
     },
     "metadata": {
      "needs_background": "light"
     },
     "output_type": "display_data"
    },
    {
     "name": "stdout",
     "output_type": "stream",
     "text": [
      "=============== CLASS 6 ===============\n"
     ]
    },
    {
     "data": {
      "image/png": "[encoded data removed]",
      "text/plain": [
       "<Figure size 144x144 with 1 Axes>"
      ]
     },
     "metadata": {
      "needs_background": "light"
     },
     "output_type": "display_data"
    },
    {
     "name": "stdout",
     "output_type": "stream",
     "text": [
      "=============== CLASS 7 ===============\n"
     ]
    },
    {
     "data": {
      "image/png": "[encoded data removed]",
      "text/plain": [
       "<Figure size 144x144 with 1 Axes>"
      ]
     },
     "metadata": {
      "needs_background": "light"
     },
     "output_type": "display_data"
    },
    {
     "name": "stdout",
     "output_type": "stream",
     "text": [
      "=============== CLASS 8 ===============\n"
     ]
    },
    {
     "data": {
      "image/png": "[encoded data removed]",
      "text/plain": [
       "<Figure size 144x144 with 1 Axes>"
      ]
     },
     "metadata": {
      "needs_background": "light"
     },
     "output_type": "display_data"
    },
    {
     "name": "stdout",
     "output_type": "stream",
     "text": [
      "=============== CLASS 9 ===============\n"
     ]
    },
    {
     "data": {
      "image/png": "[encoded data removed]",
      "text/plain": [
       "<Figure size 144x144 with 1 Axes>"
      ]
     },
     "metadata": {
      "needs_background": "light"
     },
     "output_type": "display_data"
    }
   ],
   "source": [
    "for i in range(0,10):\n",
    "    index = 0\n",
    "    while labels[index] != i:\n",
    "        index += 1\n",
    "    image = data[index]\n",
    "    print(\"=============== CLASS \" + str(i) + \" ===============\")\n",
    "    plt.figure(figsize = (2 , 2))\n",
    "    plt.imshow(image)\n",
    "    plt.title(i)\n",
    "    plt.show()"
   ]
  },
  {
   "cell_type": "markdown",
   "id": "8a4663d8",
   "metadata": {},
   "source": [
    "### Question 4:"
   ]
  },
  {
   "cell_type": "code",
   "execution_count": 67,
   "id": "19426c0c",
   "metadata": {},
   "outputs": [
    {
     "data": {
      "image/png": "[encoded data removed]",
      "text/plain": [
       "<Figure size 2400x960 with 1 Axes>"
      ]
     },
     "metadata": {},
     "output_type": "display_data"
    }
   ],
   "source": [
    "values_count = [labels.count(i) for i in range(0,10)]\n",
    "values_count = pd.Series(values_count)\n",
    "values_count.index = range(0,10)\n",
    "plt.figure(figsize=(30,12), dpi= 80, facecolor='w', edgecolor='k')\n",
    "values_count.plot.bar(fontsize=25)\n",
    "plt.title('Number of Images Per Class Train Dataset', fontsize = 25)\n",
    "plt.show()"
   ]
  },
  {
   "cell_type": "markdown",
   "id": "15cd7b7d",
   "metadata": {},
   "source": [
    "### Question 5:"
   ]
  },
  {
   "cell_type": "code",
   "execution_count": 72,
   "id": "f802b36b",
   "metadata": {},
   "outputs": [
    {
     "data": {
      "text/plain": [
       "array([[[0., 0., 0., ..., 0., 1., 1.],\n",
       "        [1., 1., 0., ..., 0., 0., 0.],\n",
       "        [0., 0., 0., ..., 0., 0., 0.],\n",
       "        ...,\n",
       "        [0., 0., 0., ..., 0., 0., 0.],\n",
       "        [0., 0., 0., ..., 1., 1., 0.],\n",
       "        [0., 1., 1., ..., 1., 1., 1.]],\n",
       "\n",
       "       [[0., 0., 0., ..., 0., 0., 0.],\n",
       "        [0., 0., 0., ..., 0., 0., 0.],\n",
       "        [1., 1., 1., ..., 1., 1., 1.],\n",
       "        ...,\n",
       "        [1., 1., 1., ..., 1., 1., 1.],\n",
       "        [0., 0., 0., ..., 0., 0., 0.],\n",
       "        [0., 0., 0., ..., 0., 0., 1.]],\n",
       "\n",
       "       [[0., 1., 1., ..., 1., 1., 1.],\n",
       "        [1., 1., 1., ..., 1., 1., 1.],\n",
       "        [0., 1., 1., ..., 1., 1., 1.],\n",
       "        ...,\n",
       "        [1., 1., 1., ..., 1., 1., 1.],\n",
       "        [1., 1., 1., ..., 0., 0., 0.],\n",
       "        [0., 1., 1., ..., 1., 1., 1.]],\n",
       "\n",
       "       ...,\n",
       "\n",
       "       [[0., 0., 0., ..., 1., 0., 0.],\n",
       "        [0., 0., 0., ..., 1., 1., 1.],\n",
       "        [1., 0., 0., ..., 0., 0., 1.],\n",
       "        ...,\n",
       "        [0., 0., 0., ..., 0., 1., 1.],\n",
       "        [1., 1., 1., ..., 0., 0., 0.],\n",
       "        [0., 1., 1., ..., 0., 0., 0.]],\n",
       "\n",
       "       [[0., 0., 0., ..., 0., 0., 0.],\n",
       "        [0., 0., 0., ..., 0., 0., 0.],\n",
       "        [0., 0., 0., ..., 0., 0., 0.],\n",
       "        ...,\n",
       "        [0., 0., 1., ..., 0., 0., 0.],\n",
       "        [0., 0., 0., ..., 0., 0., 0.],\n",
       "        [0., 0., 0., ..., 1., 0., 0.]],\n",
       "\n",
       "       [[0., 0., 0., ..., 0., 0., 0.],\n",
       "        [0., 0., 0., ..., 0., 0., 0.],\n",
       "        [0., 0., 0., ..., 0., 0., 0.],\n",
       "        ...,\n",
       "        [0., 0., 0., ..., 0., 0., 0.],\n",
       "        [0., 0., 0., ..., 0., 0., 0.],\n",
       "        [0., 0., 0., ..., 0., 0., 0.]]])"
      ]
     },
     "execution_count": 72,
     "metadata": {},
     "output_type": "execute_result"
    }
   ],
   "source": [
    "data =  np.array(data)\n",
    "labels = np.array(labels)\n",
    "\n",
    "data = data / 255"
   ]
  },
  {
   "cell_type": "markdown",
   "id": "d341eceb",
   "metadata": {},
   "source": [
    "## Part II: Completion of incomplete parts of the neural network"
   ]
  },
  {
   "cell_type": "markdown",
   "id": "b14c3832",
   "metadata": {},
   "source": [
    "# Dataloader"
   ]
  },
  {
   "cell_type": "code",
   "execution_count": 74,
   "id": "815fefea",
   "metadata": {},
   "outputs": [],
   "source": [
    "class Dataloader:\n",
    "    '''\n",
    "    This class prepares the dataset for the neural network.\n",
    "    '''\n",
    "    \n",
    "    def __init__(self, data, labels, n_classes, batch_size=None, shuffle=False):\n",
    "        '''\n",
    "        This is the constructor. It gets dataset information and initializes the \n",
    "        Dataloader class fields.\n",
    "            Parameters:\n",
    "                data: features your dataset in pandas.Dataframe format.\n",
    "                labels: labels of your dataset in pandas.Dataframe format.\n",
    "                n_classes: number of classes you have in your dataset.\n",
    "                batch_size: the number of samples that will be propagated through the network.\n",
    "                shuffle: boolean value indicating whether or not the dataset should be shuffled\n",
    "        '''\n",
    "\n",
    "        assert len(data)==len(labels)\n",
    "        self.__n_classes = n_classes\n",
    "        self.__batch_size = batch_size\n",
    "        self.__shuffle = shuffle\n",
    "        self.__data = data\n",
    "        self.__onehot_labels = self.__onehot(labels, self.__n_classes)\n",
    "    \n",
    "    def __onehot(self, labels, n_classes):\n",
    "        '''\n",
    "        This private method gets labels and provides one_hot vectors of labels.\n",
    "        For categorical variables where no such ordinal relationship exists,\n",
    "        the integer encoding is not enough.\n",
    "        In this case, a one-hot encoding can be applied to the integer representation.\n",
    "        This is where the integer encoded variable is removed, and a new binary variable is\n",
    "        added for each unique integer value.\n",
    "        example:\n",
    "            red,    green,    blue\n",
    "            1,      0,        0\n",
    "            0,      1,        0\n",
    "            0,      0,        1\n",
    "                Parameters:\n",
    "                        label: lables of your dataset in pandas.Dataframe format.\n",
    "                        n_classes: number of classes you have in your dataset.\n",
    "                \n",
    "                Returns:\n",
    "                    onehot_vectors: onehot vectors of the labels\n",
    "        '''\n",
    "        # TODO: Implement\n",
    "        return onehot_vectors\n",
    "    \n",
    "    def __shuffle_dataset(self):\n",
    "        '''\n",
    "        This private method shuffles your dataset.\n",
    "        It uses data and onehot_labels to shuffle them\n",
    "        symmetrical.\n",
    "        '''\n",
    "        # TODO: Implement\n",
    "    \n",
    "    def __iter__(self):\n",
    "        '''\n",
    "        The __iter__() function returns an iterator for the\n",
    "        given object (array, set, tuple, etc., or custom objects).\n",
    "        This will return your dataset in the batch_size given. This should\n",
    "        be used to provide data for the neural network.\n",
    "        '''\n",
    "        \n",
    "        if self.__shuffle:\n",
    "            self.__shuffle_dataset()\n",
    "            \n",
    "        if self.__batch_size==None:\n",
    "            yield (np.matrix(self.__data), np.matrix(self.__onehot_labels))\n",
    "            return\n",
    "            \n",
    "        for idx in range(0, len(self.__data), self.__batch_size):\n",
    "            yield (np.matrix(self.__data[idx:idx+self.__batch_size]), \n",
    "                   np.matrix(self.__onehot_labels[idx:idx+self.__batch_size]))"
   ]
  },
  {
   "cell_type": "markdown",
   "id": "1ab29b35",
   "metadata": {},
   "source": [
    "# Activation Functions"
   ]
  },
  {
   "cell_type": "code",
   "execution_count": 75,
   "id": "954f6054",
   "metadata": {},
   "outputs": [
    {
     "ename": "IndentationError",
     "evalue": "unexpected indent (<ipython-input-75-45d315b53cd2>, line 8)",
     "output_type": "error",
     "traceback": [
      "\u001b[1;36m  File \u001b[1;32m\"<ipython-input-75-45d315b53cd2>\"\u001b[1;36m, line \u001b[1;32m8\u001b[0m\n\u001b[1;33m    '''\u001b[0m\n\u001b[1;37m    ^\u001b[0m\n\u001b[1;31mIndentationError\u001b[0m\u001b[1;31m:\u001b[0m unexpected indent\n"
     ]
    }
   ],
   "source": [
    "class Identical:\n",
    "    '''\n",
    "    This is the Identical activation function. This activation function just\n",
    "    return the value it gets.\n",
    "    '''\n",
    "    \n",
    "    def __init__(self): pass\n",
    "        '''\n",
    "        This is the constructor. It does not have any fields\n",
    "        as a result, there is no need to do anything in the constructor.\n",
    "        '''\n",
    "    \n",
    "    def __val(self, matrix):\n",
    "        '''\n",
    "        This private method gets a matrix and uses the activity function on that.\n",
    "        As this is an identical activity function, it just \n",
    "        returns np.matrix of the input.\n",
    "        \n",
    "            Parameters:\n",
    "                matrix: np.matrix of values\n",
    "            Returns:\n",
    "                identical_value: np.matrix of input with float datatypes\n",
    "        '''\n",
    "        identical_value = np.matrix(matrix, dtype=float)\n",
    "        return identical_value\n",
    "\n",
    "    def derivative(self, matrix):\n",
    "        '''\n",
    "        This method returns the derivation of the input.\n",
    "        As the derivation of x is one, this method returns\n",
    "        a matrix of one with the shape of the input matrix.\n",
    "        \n",
    "            Parameters:\n",
    "                matrix: np.matrix of values\n",
    "            Returns:\n",
    "                identical_derivative: np.matrix of ones with matrix shape\n",
    "        '''\n",
    "        temp = np.matrix(matrix, dtype=float)\n",
    "        identical_derivative = np.matrix(np.full(np.shape(temp), 1.))\n",
    "        return identical_derivative\n",
    "    \n",
    "    def __call__(self, matrix):\n",
    "        '''\n",
    "        __call__ is a special function in Python that, when implemented inside a class,\n",
    "        gives its instances (objects) the ability to behave like a function.\n",
    "        Here we return the _value method output.\n",
    "            \n",
    "            Parameters:\n",
    "                matrix: np.matrix of values\n",
    "            Returns:\n",
    "                __val(matrix): __val return value for the input matrix\n",
    "        '''\n",
    "        return self.__val(matrix)\n",
    "    \n",
    "\n",
    "class Relu:\n",
    "    '''\n",
    "    This is the Relu activation function. \n",
    "    The rectified linear activation function or ReLU for short\n",
    "    is a piecewise linear function that will output the input directly\n",
    "    if it is positive, otherwise, it will output zero.\n",
    "    '''\n",
    "    \n",
    "    def __init__(self): pass\n",
    "        '''\n",
    "        This is the constructor. It does not have any fields\n",
    "        as a result, there is no need to do anything in the constructor.\n",
    "        '''\n",
    "    \n",
    "    def __val(self, matrix):\n",
    "        '''\n",
    "        This private method gets a matrix and uses the activity function on that.\n",
    "        It will set 0 in the matrix if the value is less than 0 else, it returns the value itself.\n",
    "        \n",
    "            Parameters:\n",
    "                matrix: np.matrix of values\n",
    "            Returns:\n",
    "                relu_value: np.matrix of relu activation function result\n",
    "        '''\n",
    "        # TODO: Implement\n",
    "        return relu_value\n",
    "\n",
    "    def derivative(self, matrix):\n",
    "        '''\n",
    "        Returns the derivation value of relu function on input matrix.\n",
    "        \n",
    "            Parameters:\n",
    "                matrix: np.matrix of values\n",
    "            Returns:\n",
    "                relu_derivative: np.matrix of relu activation function derivation result\n",
    "        '''\n",
    "        # TODO: Implement\n",
    "        return relu_derivative\n",
    "    \n",
    "    def __call__(self, matrix):\n",
    "        '''\n",
    "        __call__ is a special function in Python that, when implemented inside a class,\n",
    "        gives its instances (objects) the ability to behave like a function.\n",
    "        Here we return the _relu method output.\n",
    "            \n",
    "            Parameters:\n",
    "                matrix: np.matrix of values\n",
    "            Returns:\n",
    "                __relu(matrix): __relu return value for the input matrix\n",
    "        '''\n",
    "        return self.__val(matrix)\n",
    "\n",
    "    \n",
    "class LeakyRelu:\n",
    "    '''\n",
    "    This is the Leaky Relu activation function. \n",
    "    Leaky Rectified Linear Unit, or Leaky ReLU,\n",
    "    is a type of activation function based on a ReLU,\n",
    "    but it has a small slope for negative values instead\n",
    "    of a flat slope.\n",
    "    '''\n",
    "    \n",
    "    def __init__(self, negative_slope=0.01):\n",
    "        '''\n",
    "        This is the constructor.\n",
    "        It sets negative_slope field.\n",
    "            Parameters:\n",
    "                negative_slope: slope for negative input values\n",
    "        '''\n",
    "        self.negative_slope = 0.01\n",
    "    \n",
    "    def __val(self, matrix):\n",
    "        '''\n",
    "        This private method gets a matrix and uses the activity function on that.\n",
    "        It will set negative_slope*value in the matrix if the value is less than 0, else it\n",
    "        returns the value itself.\n",
    "        \n",
    "            Parameters:\n",
    "                matrix: np.matrix of values\n",
    "            Returns:\n",
    "                relu_value: np.matrix of relu activation function result\n",
    "        '''\n",
    "        # TODO: Implement\n",
    "        return leacky_relu_value\n",
    "\n",
    "    def derivative(self, matrix):\n",
    "        '''\n",
    "        Returns the derivation value of leaky relu function on input matrix.\n",
    "        \n",
    "            Parameters:\n",
    "                matrix: np.matrix of values\n",
    "            Returns:\n",
    "                leacky_relu_derivative: np.matrix of leaky relu activation function derivation result\n",
    "        '''\n",
    "        # TODO: Implement\n",
    "        return leacky_relu_derivative\n",
    "    \n",
    "    def __call__(self, matrix):\n",
    "        '''\n",
    "        __call__ is a special function in Python that, when implemented inside a class,\n",
    "        gives its instances (objects) the ability to behave like a function.\n",
    "        Here we return the _val method output.\n",
    "            \n",
    "            Parameters:\n",
    "                matrix: np.matrix of values\n",
    "            Returns:\n",
    "                __val(matrix): __val return value for the input matrix\n",
    "        '''\n",
    "        return self.__val(matrix)\n",
    "\n",
    "    \n",
    "class Sigmoid:\n",
    "    '''\n",
    "    A sigmoid function is a mathematical function having a\n",
    "    characteristic \"S\"-shaped curve or sigmoid curve.\n",
    "    It return S(x)=1/(1+e^-x)\n",
    "    '''\n",
    "    \n",
    "    def __init__(self): pass\n",
    "\n",
    "    def __val(self, matrix):\n",
    "        '''\n",
    "        Returns 1/(1+e^-x) of values\n",
    "        \n",
    "            Parameters:\n",
    "                matrix: np.matrix of values\n",
    "            Returns:\n",
    "                sigmoid_value: np.matrix of relu activation function result\n",
    "        '''\n",
    "        # TODO: Implement\n",
    "        return sigmoid_value\n",
    "\n",
    "    def derivative(self, matrix):\n",
    "        '''\n",
    "        Returns the derivation value of sigmoid function on input matrix.\n",
    "        \n",
    "            Parameters:\n",
    "                matrix: np.matrix of values\n",
    "            Returns:\n",
    "                sigmoid_derivative: np.matrix of sigmoid activation function derivation result\n",
    "        '''\n",
    "        # TODO: Implement\n",
    "        return sigmoid_derivative\n",
    "    \n",
    "    def __call__(self, matrix):\n",
    "        '''\n",
    "        __call__ is a special function in Python that, when implemented inside a class,\n",
    "        gives its instances (objects) the ability to behave like a function.\n",
    "        Here we return the _val method output.\n",
    "            \n",
    "            Parameters:\n",
    "                matrix: np.matrix of values\n",
    "            Returns:\n",
    "                __val(matrix): __val return value for the input matrix\n",
    "        '''\n",
    "        return self.__val(matrix)\n",
    "\n",
    "\n",
    "class Softmax:\n",
    "    '''\n",
    "    The softmax function, also known as softargmax  or normalized\n",
    "    exponential function is a generalization of the logistic\n",
    "    function to multiple dimensions. It is used in multinomial logistic\n",
    "    regression and is often used as the last activation function of a neural\n",
    "    network to normalize the output of a network to a probability distribution\n",
    "    over predicted output classes, based on Luce's choice axiom.\n",
    "    Softmax return (e^x_i / (Σe^x_j for j = 1, ..., J))\n",
    "    '''\n",
    "        \n",
    "    def __init__(self): pass\n",
    "        '''\n",
    "        This is the constructor. It does not have any fields\n",
    "        as a result, there is no need to do anything in the constructor.\n",
    "        '''\n",
    "\n",
    "    def __val(self, matrix):\n",
    "        '''\n",
    "        This private method gets a matrix and uses the softmax on that.\n",
    "        Softmax return (e^x_i / (Σe^x_j for j = 1, ..., J))\n",
    "        \n",
    "            Parameters:\n",
    "                matrix: np.matrix of values\n",
    "            Returns:\n",
    "                relu_value: np.matrix of relu activation function result\n",
    "        '''\n",
    "        # TODO: Implement\n",
    "        return softmax_value\n",
    "    \n",
    "    def __call__(self, matrix):\n",
    "        '''\n",
    "        __call__ is a special function in Python that, when implemented inside a class,\n",
    "        gives its instances (objects) the ability to behave like a function.\n",
    "        Here we return the _val method output.\n",
    "            \n",
    "            Parameters:\n",
    "                matrix: np.matrix of values\n",
    "            Returns:\n",
    "                __val(matrix): __val return value for the input matrix\n",
    "        '''\n",
    "        return self.__val(matrix)\n",
    "    \n",
    "class Tanh:\n",
    "    \n",
    "    def __init__(self): pass\n",
    "      '''\n",
    "      This is the constructor. It does not have any fields\n",
    "      as a result, there is no need to do anything in the constructor.\n",
    "      '''\n",
    "\n",
    "    def __val(self, matrix):\n",
    "        '''\n",
    "        This private method gets a matrix and uses the activity function on that.\n",
    "        It performs Tanh on the values.\n",
    "        \n",
    "            Parameters:\n",
    "                matrix: np.matrix of values\n",
    "            Returns:\n",
    "                tanh_value: np.matrix of Tanh activation function result\n",
    "        '''\n",
    "        # TODO: Implement\n",
    "        return tanh_value\n",
    "\n",
    "    def derivative(self, matrix):\n",
    "        '''\n",
    "        Returns the derivation value of Tanh function on input matrix.\n",
    "        \n",
    "            Parameters:\n",
    "                matrix: np.matrix of values\n",
    "            Returns:\n",
    "                sigmoid_derivative: np.matrix of Tanh activation function derivation result\n",
    "        '''\n",
    "        # TODO: Implement\n",
    "        return tanh_derivative\n",
    "    \n",
    "    def __call__(self, matrix):\n",
    "        '''\n",
    "        __call__ is a special function in Python that, when implemented inside a class,\n",
    "        gives its instances (objects) the ability to behave like a function.\n",
    "        Here we return the _val method output.\n",
    "            \n",
    "            Parameters:\n",
    "                matrix: np.matrix of values\n",
    "            Returns:\n",
    "                __val(matrix): __val return value for the input matrix\n",
    "        '''\n",
    "        return self.__val(matrix)"
   ]
  },
  {
   "cell_type": "markdown",
   "id": "a1ab41bd",
   "metadata": {},
   "source": [
    "# Loss Function"
   ]
  },
  {
   "cell_type": "code",
   "execution_count": 76,
   "id": "0d33eb91",
   "metadata": {},
   "outputs": [
    {
     "ename": "IndentationError",
     "evalue": "unexpected indent (<ipython-input-76-cb1615dcbea5>, line 11)",
     "output_type": "error",
     "traceback": [
      "\u001b[1;36m  File \u001b[1;32m\"<ipython-input-76-cb1615dcbea5>\"\u001b[1;36m, line \u001b[1;32m11\u001b[0m\n\u001b[1;33m    '''\u001b[0m\n\u001b[1;37m    ^\u001b[0m\n\u001b[1;31mIndentationError\u001b[0m\u001b[1;31m:\u001b[0m unexpected indent\n"
     ]
    }
   ],
   "source": [
    "class CrossEntropy: #(with softmax)\n",
    "    '''\n",
    "    Cross-entropy is a measure of the difference between two probability\n",
    "    distributions for a given random variable or set of events. You might\n",
    "    recall that information quantifies the number of bits required to encode\n",
    "    and transmit an event.\n",
    "    The above image can help you.\n",
    "    '''\n",
    "    \n",
    "    def __init__(self): pass\n",
    "        '''\n",
    "        This is the constructor. It does not have any fields\n",
    "        as a result, there is no need to do anything in the constructor.\n",
    "        '''\n",
    "\n",
    "    def __val(self, true_val, expected_val):\n",
    "        '''\n",
    "        L(y^, y) = - Σ (y^(k)log (y^)^(k)) for k in K\n",
    "        Parameters:\n",
    "            true_val: calculated values (generated by neural network)\n",
    "            expected_val: real values in dataset\n",
    "        Returns:\n",
    "            cross_entropy_value: cross entropy of inputs\n",
    "        '''\n",
    "        assert np.shape(true_val)==np.shape(expected_val)\n",
    "        # TODO: Implement\n",
    "        return cross_entropy_value\n",
    "        \n",
    "    def derivative(self, true_val, expected_val):\n",
    "        '''\n",
    "        Returns derivation of cross entropy.\n",
    "            Parameters:\n",
    "                true_val: calculated values (generated by neural network)\n",
    "                expected_val: real values in dataset\n",
    "            Returns:\n",
    "                cross_entropy_derivative: cross entropy derivation of inputs\n",
    "        '''\n",
    "        assert np.shape(true_val)==np.shape(expected_val)\n",
    "        # TODO: Implement\n",
    "        return cross_entropy_derivative\n",
    "    \n",
    "    def __call__(self, true_val, expected_val):\n",
    "        '''\n",
    "        __call__ is a special function in Python that, when implemented inside a class,\n",
    "        gives its instances (objects) the ability to behave like a function.\n",
    "        Here we return the _val method output.\n",
    "            \n",
    "            Parameters:\n",
    "                true_val: calculated values (generated by neural network)\n",
    "                expected_val: real values in dataset\n",
    "            Returns:\n",
    "                __val(matrix): __val return value for the input matrix\n",
    "        '''\n",
    "        return self.__val(true_val, expected_val)"
   ]
  },
  {
   "cell_type": "markdown",
   "id": "8d1082b8",
   "metadata": {},
   "source": [
    "# Layer"
   ]
  },
  {
   "cell_type": "code",
   "execution_count": 77,
   "id": "9255707a",
   "metadata": {},
   "outputs": [
    {
     "ename": "NameError",
     "evalue": "name 'Identical' is not defined",
     "output_type": "error",
     "traceback": [
      "\u001b[1;31m---------------------------------------------------------------------------\u001b[0m",
      "\u001b[1;31mNameError\u001b[0m                                 Traceback (most recent call last)",
      "\u001b[1;32m<ipython-input-77-246a0ea4451f>\u001b[0m in \u001b[0;36m<module>\u001b[1;34m\u001b[0m\n\u001b[1;32m----> 1\u001b[1;33m \u001b[1;32mclass\u001b[0m \u001b[0mLayer\u001b[0m\u001b[1;33m:\u001b[0m\u001b[1;33m\u001b[0m\u001b[1;33m\u001b[0m\u001b[0m\n\u001b[0m\u001b[0;32m      2\u001b[0m     '''\n\u001b[0;32m      3\u001b[0m     \u001b[0mThe\u001b[0m \u001b[0mlayer\u001b[0m \u001b[1;32mclass\u001b[0m \u001b[1;32mis\u001b[0m \u001b[0mused\u001b[0m \u001b[0mto\u001b[0m \u001b[0mdefine\u001b[0m \u001b[0mneural\u001b[0m \u001b[0mnetwork\u001b[0m \u001b[0mlayers\u001b[0m\u001b[1;33m.\u001b[0m\u001b[1;33m\u001b[0m\u001b[1;33m\u001b[0m\u001b[0m\n\u001b[0;32m      4\u001b[0m     \u001b[0mIt\u001b[0m \u001b[0mstores\u001b[0m \u001b[0mall\u001b[0m \u001b[0mneeded\u001b[0m \u001b[0minformation\u001b[0m \u001b[1;32mfor\u001b[0m \u001b[0meach\u001b[0m \u001b[0mlayer\u001b[0m\u001b[1;33m,\u001b[0m \u001b[0msuch\u001b[0m \u001b[1;32mas\u001b[0m \u001b[0mneurons\u001b[0m \u001b[0mcount\u001b[0m\u001b[1;33m,\u001b[0m\u001b[1;33m\u001b[0m\u001b[1;33m\u001b[0m\u001b[0m\n\u001b[0;32m      5\u001b[0m     \u001b[0mweight\u001b[0m \u001b[0mmatrix\u001b[0m\u001b[1;33m,\u001b[0m \u001b[0mbias\u001b[0m\u001b[1;33m,\u001b[0m \u001b[0mthe\u001b[0m \u001b[0moutput\u001b[0m \u001b[0mafter\u001b[0m \u001b[0mapplying\u001b[0m \u001b[0mthe\u001b[0m \u001b[0mactivation\u001b[0m \u001b[0mfunction\u001b[0m\u001b[1;33m,\u001b[0m \u001b[0metc\u001b[0m\u001b[1;33m.\u001b[0m\u001b[1;33m\u001b[0m\u001b[1;33m\u001b[0m\u001b[0m\n",
      "\u001b[1;32m<ipython-input-77-246a0ea4451f>\u001b[0m in \u001b[0;36mLayer\u001b[1;34m()\u001b[0m\n\u001b[0;32m      8\u001b[0m     \u001b[0mDEFAULT_LOW\u001b[0m\u001b[1;33m,\u001b[0m \u001b[0mDEFAULT_HIGH\u001b[0m\u001b[1;33m,\u001b[0m \u001b[0mDEFAULT_MEAN\u001b[0m\u001b[1;33m,\u001b[0m \u001b[0mDEFAULT_VAR\u001b[0m \u001b[1;33m=\u001b[0m \u001b[1;36m0\u001b[0m\u001b[1;33m,\u001b[0m \u001b[1;36m0.05\u001b[0m\u001b[1;33m,\u001b[0m \u001b[1;36m0.\u001b[0m\u001b[1;33m,\u001b[0m \u001b[1;36m1.\u001b[0m\u001b[1;33m\u001b[0m\u001b[1;33m\u001b[0m\u001b[0m\n\u001b[0;32m      9\u001b[0m \u001b[1;33m\u001b[0m\u001b[0m\n\u001b[1;32m---> 10\u001b[1;33m     def __init__(self, input_size, output_size, activation=Identical(), initial_weight='uniform', \n\u001b[0m\u001b[0;32m     11\u001b[0m                  **initializing_parameters):\n\u001b[0;32m     12\u001b[0m         '''\n",
      "\u001b[1;31mNameError\u001b[0m: name 'Identical' is not defined"
     ]
    }
   ],
   "source": [
    "class Layer:\n",
    "    '''\n",
    "    The layer class is used to define neural network layers.\n",
    "    It stores all needed information for each layer, such as neurons count,\n",
    "    weight matrix, bias, the output after applying the activation function, etc.\n",
    "    '''\n",
    "\n",
    "    DEFAULT_LOW, DEFAULT_HIGH, DEFAULT_MEAN, DEFAULT_VAR = 0, 0.05, 0., 1.\n",
    "  \n",
    "    def __init__(self, input_size, output_size, activation=Identical(), initial_weight='uniform', \n",
    "                 **initializing_parameters):\n",
    "        '''\n",
    "        Parameters:\n",
    "            input_size: the size of the input of this layer.\n",
    "            output_size: the size of the output after this layer.\n",
    "            activation: the activation function. It can be initialized to either of the previously defined activation classes.\n",
    "                               default is an Identical activation function.\n",
    "            initial_weight: either normal or uniform. It defines the method for weight initialization.\n",
    "        '''\n",
    "        \n",
    "        assert type(initial_weight)==str, 'Undefined activation function!'\n",
    "        \n",
    "        self.__weight_initializer_dict = {'uniform':self.__uniform_weight, 'normal':self.__normal_weight}\n",
    "        \n",
    "        assert initial_weight in self.__weight_initializer_dict, 'Undefined weight initialization function!'\n",
    "\n",
    "\n",
    "        self.__n_neurons = output_size\n",
    "        weight_initializer = self.__weight_initializer_dict[initial_weight]\n",
    "        self.__weight = weight_initializer(input_size, self.__n_neurons, **initializing_parameters)\n",
    "        self.__bias = weight_initializer(1, self.__n_neurons, **initializing_parameters)\n",
    "        self.__activation = activation\n",
    "        \n",
    "        self.__last_input = None\n",
    "        self.__last_activation_input = None\n",
    "        self.__last_activation_output = None\n",
    "        self.__last_activation_derivative = None\n",
    "        \n",
    "    def forward(self, layer_input):\n",
    "        '''\n",
    "        It calculates the output of this layer for the layer_input argument.\n",
    "        This method also stores __last_input, __last_activation_input, and __last_activation_derivative\n",
    "        for future use in backpropagation.\n",
    "        Parameters:\n",
    "            layer_input: 2d np.matrix representing the input matrix of this layer.\n",
    "        Returns:\n",
    "            Final output of this layer after applying the activation function.\n",
    "        '''\n",
    "        assert np.ndim(layer_input)==2\n",
    "        assert np.size(self.__weight,0) == np.size(layer_input,1)\n",
    "        # TODO: Implement\n",
    "        return self.__last_activation_output\n",
    "    \n",
    "    def update_weights(self, backprop_tensor, lr):\n",
    "        '''\n",
    "        It updates Layer weights according to the backpropagation matrix and learning rate.\n",
    "        This method updates bias values as well.\n",
    "        Parameters:\n",
    "            backprop_tensor: 2d np.matrix passed from the next layer containing gradient values.\n",
    "            lr: learning rate\n",
    "        Returns:\n",
    "            backprop_tensor to be used by the previous layer.\n",
    "        '''\n",
    "        assert np.ndim(backprop_tensor)==2\n",
    "        assert np.size(backprop_tensor,0) == np.size(self.__last_activation_derivative,0)\n",
    "        assert np.size(backprop_tensor,1) == self.__n_neurons\n",
    "        # TODO: Implement\n",
    "        return backprop_tensor\n",
    "\n",
    "    def __uniform_weight(self, dim1, dim2, **initializing_parameters):\n",
    "        '''\n",
    "        Initializes weights as a uniform distribution between low and high values.\n",
    "        It uses default low and high values unless low or high are passed in initializing_parameters.\n",
    "        Parameters:\n",
    "            dim1: the size of the first dimension of weights.\n",
    "            dim2: the size of the second dimension of weights.\n",
    "            initializing_parameters: other initializing parameters; it can include custom low or high values.\n",
    "        Returns:\n",
    "            np.matrix with size (dim1, dim2) initialized using uniformly distributed values.\n",
    "        '''\n",
    "        low, high = self.DEFAULT_LOW, self.DEFAULT_HIGH\n",
    "        if 'low' in initializing_parameters.keys(): low = initializing_parameters['low']\n",
    "        if 'high' in initializing_parameters.keys(): high = initializing_parameters['high']\n",
    "        # TODO: Implement\n",
    "        return weights\n",
    "\n",
    "    def __normal_weight(self, dim1, dim2, **initializing_parameters):\n",
    "        '''\n",
    "        Initializes weights as a normal distribution with mean and var values.\n",
    "        It uses default mean and variance values unless mean or var are passed in initializing_parameters.\n",
    "        Parameters:\n",
    "            dim1: the size of the first dimension of weights.\n",
    "            dim2: the size of the second dimension of weights.\n",
    "            initializing_parameters: other initializing parameters; it can include custom mean or var values.\n",
    "        Returns:\n",
    "            np.matrix with size (dim1, dim2) initialized using normaly distributed values.\n",
    "        ''' \n",
    "        mean, var = self.DEFAULT_MEAN, self.DEFAULT_VAR\n",
    "        if 'mean' in initializing_parameters.keys(): mean = initializing_parameters['mean']\n",
    "        if 'var' in initializing_parameters.keys(): var = initializing_parameters['var']\n",
    "        # TODO: Implement\n",
    "        return weights\n",
    "    \n",
    "    @property\n",
    "    def n_neurons(self): return self.__n_neurons\n",
    "    \n",
    "    @property\n",
    "    def weight(self): return self.__weight\n",
    "    \n",
    "    @property\n",
    "    def bias(self): return self.__bias\n",
    "    \n",
    "    @property\n",
    "    def activation(self): return self.__activation"
   ]
  },
  {
   "cell_type": "markdown",
   "id": "bae398ba",
   "metadata": {},
   "source": [
    "# Feed Forward Neural Network"
   ]
  },
  {
   "cell_type": "code",
   "execution_count": 78,
   "id": "307831c6",
   "metadata": {},
   "outputs": [
    {
     "ename": "NameError",
     "evalue": "name 'Relu' is not defined",
     "output_type": "error",
     "traceback": [
      "\u001b[1;31m---------------------------------------------------------------------------\u001b[0m",
      "\u001b[1;31mNameError\u001b[0m                                 Traceback (most recent call last)",
      "\u001b[1;32m<ipython-input-78-08eb171f860f>\u001b[0m in \u001b[0;36m<module>\u001b[1;34m\u001b[0m\n\u001b[1;32m----> 1\u001b[1;33m \u001b[1;32mclass\u001b[0m \u001b[0mFeedForwardNN\u001b[0m\u001b[1;33m:\u001b[0m\u001b[1;33m\u001b[0m\u001b[1;33m\u001b[0m\u001b[0m\n\u001b[0m\u001b[0;32m      2\u001b[0m     '''\n\u001b[0;32m      3\u001b[0m     \u001b[0mThis\u001b[0m \u001b[1;32mclass\u001b[0m \u001b[1;32mis\u001b[0m \u001b[0mused\u001b[0m \u001b[1;32min\u001b[0m \u001b[0morder\u001b[0m \u001b[0mto\u001b[0m \u001b[0mimplement\u001b[0m \u001b[0mcustom\u001b[0m \u001b[0mfeed\u001b[0m\u001b[1;33m-\u001b[0m\u001b[0mforward\u001b[0m \u001b[0mneural\u001b[0m \u001b[0mnetworks\u001b[0m\u001b[1;33m.\u001b[0m\u001b[1;33m\u001b[0m\u001b[1;33m\u001b[0m\u001b[0m\n\u001b[0;32m      4\u001b[0m     \u001b[0mThe\u001b[0m \u001b[0mFeedForwardNN\u001b[0m \u001b[1;32mclass\u001b[0m \u001b[0mstores\u001b[0m \u001b[0ma\u001b[0m \u001b[0mlist\u001b[0m \u001b[0mof\u001b[0m \u001b[0mlayers\u001b[0m \u001b[0mthat\u001b[0m \u001b[0mdetermines\u001b[0m \u001b[0mall\u001b[0m \u001b[0mnetwork\u001b[0m \u001b[0mlayers\u001b[0m\u001b[1;33m.\u001b[0m\u001b[1;33m\u001b[0m\u001b[1;33m\u001b[0m\u001b[0m\n\u001b[0;32m      5\u001b[0m     \u001b[0mIt\u001b[0m \u001b[0malso\u001b[0m \u001b[0mconsists\u001b[0m \u001b[0mof\u001b[0m \u001b[0mthe\u001b[0m \u001b[0mlearning\u001b[0m \u001b[0mrate\u001b[0m \u001b[1;32mand\u001b[0m \u001b[0mloss\u001b[0m \u001b[0mfunction\u001b[0m\u001b[1;33m.\u001b[0m\u001b[1;33m\u001b[0m\u001b[1;33m\u001b[0m\u001b[0m\n",
      "\u001b[1;32m<ipython-input-78-08eb171f860f>\u001b[0m in \u001b[0;36mFeedForwardNN\u001b[1;34m()\u001b[0m\n\u001b[0;32m     20\u001b[0m \u001b[1;33m\u001b[0m\u001b[0m\n\u001b[0;32m     21\u001b[0m \u001b[1;33m\u001b[0m\u001b[0m\n\u001b[1;32m---> 22\u001b[1;33m     \u001b[1;32mdef\u001b[0m \u001b[0madd_layer\u001b[0m\u001b[1;33m(\u001b[0m\u001b[0mself\u001b[0m\u001b[1;33m,\u001b[0m \u001b[0mn_neurons\u001b[0m\u001b[1;33m,\u001b[0m \u001b[0mactivation\u001b[0m\u001b[1;33m=\u001b[0m\u001b[0mRelu\u001b[0m\u001b[1;33m(\u001b[0m\u001b[1;33m)\u001b[0m\u001b[1;33m,\u001b[0m \u001b[0minitial_weight\u001b[0m\u001b[1;33m=\u001b[0m\u001b[1;34m'uniform'\u001b[0m\u001b[1;33m,\u001b[0m \u001b[1;33m**\u001b[0m\u001b[0minitializing_parameters\u001b[0m\u001b[1;33m)\u001b[0m\u001b[1;33m:\u001b[0m\u001b[1;33m\u001b[0m\u001b[1;33m\u001b[0m\u001b[0m\n\u001b[0m\u001b[0;32m     23\u001b[0m         '''\n\u001b[0;32m     24\u001b[0m          \u001b[0mThis\u001b[0m \u001b[0mmethod\u001b[0m \u001b[0madds\u001b[0m \u001b[0ma\u001b[0m \u001b[0mnew\u001b[0m \u001b[0mcustom\u001b[0m \u001b[0mlayer\u001b[0m \u001b[0mto\u001b[0m \u001b[0mthe\u001b[0m \u001b[0mlayers_list\u001b[0m\u001b[1;33m.\u001b[0m\u001b[1;33m\u001b[0m\u001b[1;33m\u001b[0m\u001b[0m\n",
      "\u001b[1;31mNameError\u001b[0m: name 'Relu' is not defined"
     ]
    }
   ],
   "source": [
    "class FeedForwardNN:\n",
    "    '''\n",
    "    This class is used in order to implement custom feed-forward neural networks.\n",
    "    The FeedForwardNN class stores a list of layers that determines all network layers.\n",
    "    It also consists of the learning rate and loss function.\n",
    "    '''\n",
    "    def __init__(self, input_shape):\n",
    "        '''\n",
    "        Parameters:\n",
    "            input_shape: the size of the first input to our neural network.\n",
    "        '''\n",
    "        \n",
    "        self.__input_shape = input_shape\n",
    "        self.__output_shape = None\n",
    "        \n",
    "        self.__layers_list = []\n",
    "        \n",
    "        self.__lr = None\n",
    "        self.__loss = None\n",
    "\n",
    "        \n",
    "    def add_layer(self, n_neurons, activation=Relu(), initial_weight='uniform', **initializing_parameters):\n",
    "        '''\n",
    "         This method adds a new custom layer to the layers_list.\n",
    "         Parameters:\n",
    "             n_neurons: number of neurons in this layer\n",
    "             activation: the activation function of this layer, default is Relu\n",
    "             initial_weight: either a uniform or normal, default is uniform\n",
    "             initializing_parameters: other initializing parameters such as low, high, mean, var, etc\n",
    "        '''\n",
    "         \n",
    "        assert type(n_neurons)==int, \"Invalid number of neurons for the layer!\"\n",
    "        assert n_neurons>0, \"Invalid number of neurons for the layer!\"\n",
    "        \n",
    "        n_prev_neurons = self.__input_shape if len(self.__layers_list)==0 else self.__layers_list[-1].n_neurons\n",
    "        new_layer = Layer(n_prev_neurons, n_neurons, activation, initial_weight, **initializing_parameters)\n",
    "        self.__layers_list.append(new_layer)\n",
    "        self.__output_shape = self.__layers_list[-1].n_neurons \n",
    "      \n",
    "    \n",
    "    def set_training_param(self, loss=CrossEntropy(), lr=1e-3):\n",
    "        '''\n",
    "        This method is used to set training parameters.\n",
    "        Parameters:\n",
    "            loss: loss function, default is CrossEntropy\n",
    "            lr: learning rate, default is 1e-3\n",
    "        '''\n",
    "        assert self.__layers_list, \"Uncomplete model!\"\n",
    "        self.__loss = loss\n",
    "        self.__lr = lr\n",
    "    \n",
    "    \n",
    "    def forward(self, network_input):\n",
    "        '''\n",
    "        This method calculates the output of the complete neural network for a passed input.\n",
    "        Parameters:\n",
    "            network_input: input of the neural network\n",
    "        Returns:\n",
    "            network_output: output of the neural network after forwarding the network_input\n",
    "        '''\n",
    "        assert type(self.__output_shape) != None, \"Model is not compiled!\"\n",
    "        # TODO: Implement\n",
    "        return network_output\n",
    "    \n",
    "    \n",
    "    def fit(self, epochs, trainloader, testloader=None, print_results=True):\n",
    "        '''\n",
    "        This method trains the neural network using specified parameters.\n",
    "        It runs the __train private method epoch times and fills the log dictionary.\n",
    "        Parameters:\n",
    "            epochs: number of epochs to run\n",
    "            trainloader: DataLoader for train data\n",
    "            testloader: DataLoader for test data\n",
    "            print_results: whether or not to print the results\n",
    "        Returns:\n",
    "            log: complete log of the training process as a dictionary consisting of\n",
    "            train_accuracy, train_loss, test_accuracy, test_loss\n",
    "        '''\n",
    "        \n",
    "        assert type(self.__output_shape) != None, \"Model is not compiled!\"\n",
    "        assert type(self.__lr) != None and type(self.__loss) != None, \"Training paramenters are not set!\"\n",
    "\n",
    "        log = {\"train_accuracy\":[], \"train_loss\":[], \"test_accuracy\":[], \"test_loss\":[]}\n",
    "        \n",
    "        for epoch in range(1, epochs+1):\n",
    "            \n",
    "            if print_results: \n",
    "                print('Epoch {}:'.format(epoch)) \n",
    "                \n",
    "            average_accuracy, average_loss = self.__train(trainloader)\n",
    "            log['train_accuracy'].append(average_accuracy)\n",
    "            log['train_loss'].append(average_loss)\n",
    "            if print_results:\n",
    "                print('\\tTrain: Average Accuracy: {}\\tAverage Loss: {}'.format(average_accuracy, average_loss))\n",
    "            \n",
    "            if type(testloader) != type(None):\n",
    "                average_accuracy, average_loss = self.__test(testloader)\n",
    "                log['test_accuracy'].append(average_accuracy)\n",
    "                log['test_loss'].append(average_loss)\n",
    "                if print_results:\n",
    "                    print('\\tTest: Average Accuracy: {}\\tAverage Loss: {}'.format(average_accuracy, average_loss))\n",
    "                    \n",
    "        return log\n",
    "    \n",
    "    \n",
    "    def __train(self, trainloader):\n",
    "        '''\n",
    "        Trains the neural network for one epoch.\n",
    "        Parameters:\n",
    "            trainloader: A DataLoader consisting of train data\n",
    "        Returns:\n",
    "            batch_accuracy, batch_loss: mean of all batch_accuracies, batch_losses\n",
    "        '''\n",
    "        bach_accuracies, batch_losses = [], []\n",
    "        for x_train, y_train in trainloader:\n",
    "            batch_accuracy, batch_loss = self.__train_on_batch(x_train, y_train)\n",
    "            bach_accuracies.append(batch_accuracy)\n",
    "            batch_losses.append(batch_loss)\n",
    "        return np.mean(bach_accuracies), np.mean(batch_losses)\n",
    "    \n",
    "    \n",
    "    def __test(self, testloader):\n",
    "        '''\n",
    "        Test the neural network using a testloader.\n",
    "        Parameters:\n",
    "            testloader: A DataLoader of test data\n",
    "        Returns:\n",
    "            batch_accuracy, batch_loss: mean of all batch_accuracies, batch_losses\n",
    "        '''\n",
    "        bach_accuracies, batch_losses = [], []\n",
    "        for x_test, y_test in testloader:\n",
    "            batch_accuracy, batch_loss = self.__test_on_batch(x_test, y_test)\n",
    "            bach_accuracies.append(batch_accuracy)\n",
    "            batch_losses.append(batch_loss)\n",
    "        return np.mean(bach_accuracies), np.mean(batch_losses)\n",
    "\n",
    "    \n",
    "    def __train_on_batch(self, x_batch, y_batch):\n",
    "        '''\n",
    "        Trains the neural network for one batch of train data.\n",
    "        Parameters:\n",
    "            x_batch: one batch data\n",
    "            y_batch: labels for one batch\n",
    "        Returns:\n",
    "            (batch_accuracy, batch_average_loss)\n",
    "        '''\n",
    "        # TODO: Implement\n",
    "        return (batch_accuracy, batch_average_loss)\n",
    "        \n",
    "        \n",
    "    def __test_on_batch(self, x_batch, y_batch):\n",
    "        '''\n",
    "        Tests the neural network for one batch of test data.\n",
    "        Parameters:\n",
    "            x_batch: one batch data\n",
    "            y_batch: labels for one batch\n",
    "        Returns:\n",
    "            (batch_accuracy, batch_average_loss)\n",
    "        '''  \n",
    "        # TODO: Implement\n",
    "        return (batch_accuracy, batch_average_loss)\n",
    "            \n",
    "        \n",
    "    def __get_labels(self, outputs):\n",
    "        '''\n",
    "        Parameters:\n",
    "            outputs: output of the neural network\n",
    "        Returns:\n",
    "            labels: labels generated from the outputs of the neural network\n",
    "        '''\n",
    "        # TODO: Implement\n",
    "        return labels\n",
    "    \n",
    "    \n",
    "    def __compute_accuracy(self, output, expected_output):\n",
    "        '''\n",
    "        Computes accuracy by comparing output and expected_output.\n",
    "        Parameters:\n",
    "            output: actual output of the neural network\n",
    "            expected_output: expected output\n",
    "        Returns:\n",
    "            accuracy\n",
    "        '''\n",
    "        # TODO: Implement\n",
    "        return accuracy\n",
    "    \n",
    "    \n",
    "    def __update_weights(self, output, y_train):\n",
    "        '''\n",
    "        Updates weights of all layers according to neural network output and labels.\n",
    "        Parameters:\n",
    "            output: output of the neural network\n",
    "            y_train: y labels for one batch of train data\n",
    "        Returns:\n",
    "            None\n",
    "        '''\n",
    "        # TODO: Implement\n",
    "        return"
   ]
  },
  {
   "cell_type": "markdown",
   "id": "df8d4969",
   "metadata": {},
   "source": [
    "# Training Sample Code"
   ]
  },
  {
   "cell_type": "code",
   "execution_count": null,
   "id": "d4dcf4d5",
   "metadata": {},
   "outputs": [],
   "source": [
    "# Sample code for building and training a model\n",
    "\n",
    "INPUT_SHAPE = ...\n",
    "LEARNING_RATE = ...\n",
    "EPOCHS = ...\n",
    "TRAINLOADER = ...\n",
    "TESTLOADER = ...\n",
    "\n",
    "\n",
    "network = FeedForwardNN(INPUT_SHAPE)\n",
    "network.add_layer(..., input_shape=INPUT_SHAPE, activation=LeakyRelu(), weight_initializer='uniform')\n",
    "network.add_layer(..., activation=LeakyRelu(), weight_initializer='uniform')\n",
    "network.set_training_param(loss=CrossEntropy(), learning_rate=LEARNING_RATE)\n",
    "\n",
    "log = network.fit(EPOCHS, TRAINLOADER, TESTLOADER)"
   ]
  }
 ],
 "metadata": {
  "kernelspec": {
   "display_name": "Python 3",
   "language": "python",
   "name": "python3"
  },
  "language_info": {
   "codemirror_mode": {
    "name": "ipython",
    "version": 3
   },
   "file_extension": ".py",
   "mimetype": "text/x-python",
   "name": "python",
   "nbconvert_exporter": "python",
   "pygments_lexer": "ipython3",
   "version": "3.8.8"
  }
 },
 "nbformat": 4,
 "nbformat_minor": 5
}
